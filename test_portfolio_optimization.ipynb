{
 "cells": [
  {
   "cell_type": "code",
   "execution_count": 1,
   "id": "083bd03f",
   "metadata": {},
   "outputs": [
    {
     "data": {
      "text/plain": [
       "'\\nDefine markowitz portfolio optimization\\nConstruct the QP \\nPrepare an initial state\\nDefine a driver hamiltonian\\nInitialize the QAOA ansatz\\nDefine cost function\\nDefine Optimizer\\nOptimize\\nPost Process\\n'"
      ]
     },
     "execution_count": 1,
     "metadata": {},
     "output_type": "execute_result"
    }
   ],
   "source": [
    "\"\"\"\n",
    "Define markowitz portfolio optimization\n",
    "Construct the QP \n",
    "Prepare an initial state\n",
    "Define a driver hamiltonian\n",
    "Initialize the QAOA ansatz\n",
    "Define cost function\n",
    "Define Optimizer\n",
    "Optimize\n",
    "Post Process\n",
    "\"\"\""
   ]
  },
  {
   "cell_type": "markdown",
   "id": "f1ae1211",
   "metadata": {},
   "source": [
    "# Create Portfolio Class"
   ]
  },
  {
   "cell_type": "code",
   "execution_count": 2,
   "id": "e39f9473",
   "metadata": {},
   "outputs": [],
   "source": [
    "import numpy as np\n",
    "from qiskit_optimization import QuadraticProgram\n",
    "from qiskit import QuantumCircuit\n",
    "import itertools\n",
    "from qiskit.quantum_info import SparsePauliOp\n",
    "from itertools import product\n",
    "\n",
    "\n",
    "class Portfolio:\n",
    "    def __init__(self, sigma, mu, q, B):\n",
    "        \"\"\"\n",
    "        sigma: covariance matrix (numpy 2D array)\n",
    "        mu: expected returns (numpy array)\n",
    "        q: risk aversion parameter (float)\n",
    "        \"\"\"\n",
    "\n",
    "        self.sigma = sigma\n",
    "        self.mu = mu\n",
    "        self.q = q\n",
    "        self.B = B\n",
    "        # This is the variable for the number of qubits and nodes in the problem\n",
    "        self.n = len(mu)\n",
    "\n",
    "    def construct_qp(self):\n",
    "        # I most likely need to go in and add the constraints to this function. Due to limitations of state initialization, it is difficult only initialize valid solution states without it bleeding into the wrong\n",
    "        # states as well.\n",
    "        sigma = self.sigma\n",
    "        mu = self.mu\n",
    "        q = self.q\n",
    "        n = self.n\n",
    "\n",
    "        # We use quadratic program from qiskit_optimization to build a qp. Using qiskit's QP class will easily let us convert this to an ising problem\n",
    "        # When building the qp, we do not include constraints because the goal is to include those in the mixer hamiltonian\n",
    "        qp = QuadraticProgram() \n",
    "\n",
    "        #For the quadratic program, we need a binary variable for each node in the graph. Each binary variable represents whether each node is included in the solution\n",
    "        for i in range(n):\n",
    "            qp.binary_var(str(i))\n",
    "\n",
    "        # This adds the quadratic term to the quadrratic program. Check out Markowitz portfolio optimization for more info\n",
    "        qp.objective.quadratic = q * sigma\n",
    "\n",
    "        # This adds the linear term to the quadratic\n",
    "        qp.objective.linear = -mu\n",
    "\n",
    "        qp.linear_constraint(\n",
    "        linear={str(i): 1 for i in range(self.n)},  # Coefficients: 1*x_0 + 1*x_1 + ... + 1*x_{n-1}\n",
    "        sense='==',                                 # Equality constraint\n",
    "        rhs=self.B,                                 # Right-hand side = B\n",
    "        name='hamming_weight_constraint'\n",
    ")\n",
    "\n",
    "        return qp\n",
    "    \n",
    "    def build_initial_state(self):\n",
    "        \"\"\"Return a circuit that initializes a Dicke state of Hamming weight k over n qubits\"\"\"\n",
    "        # Create a statevector with 1s at positions with Hamming weight k\n",
    "        k = self.B\n",
    "        n = len(self.mu)\n",
    "        state = np.zeros(2**n)\n",
    "        for bits in itertools.combinations(range(n), k):\n",
    "            index = sum([1 << (n - 1 - b) for b in bits])  # convert bit positions to integer\n",
    "            state[index] = 1\n",
    "\n",
    "        state = state / np.linalg.norm(state)  # normalize\n",
    "\n",
    "        # Create circuit and initialize state\n",
    "        qc = QuantumCircuit(n)\n",
    "        qc.initialize(state, range(n))\n",
    "        return qc\n",
    "    \n",
    "    # Apologies for switiching between driver and mixer. The words are interchangable. Ill try to stick with mixer because Qiskit uses mixer\n",
    "    def build_XY_mixer(self):\n",
    "        paulis_for_mixer = [] # We need a list of paulis and coefficients for the operator \n",
    "        list_of_paulis = ['X', 'Y'] # We need to repeat the following loop for each pauli in our hamiltonian, so we create this list to do it more easily.\n",
    "\n",
    "        #The driver hamiltonian is summation (X_i * X_j + Y_i*Y_j) for all i < j\n",
    "\n",
    "        for pauli in list_of_paulis:\n",
    "            for i in range(self.n):\n",
    "                temp = None # I probably dont need this, but I dont want to accidentally point to something else when I go use the variable in the next loop.\n",
    "\n",
    "                for j in range (i+1, self.n):\n",
    "                    temp = ['I'] * self.n # Puts an identity gate on each qubit\n",
    "                    temp[i] = pauli # Per the hamiltonian, we put either an X or Y pauli gate on the ith qubit\n",
    "\n",
    "                    temp[j] = pauli # Per the hamiltonian, we put either an X or Y pauli gate on the jth qubit\n",
    "                    temp = \"\".join(temp) # This turns the temp char array into a string\n",
    "                    paulis_for_mixer.append(temp) # Combines the strings into an array of strings. Each string represents one level of paulis on the entire circuit.\n",
    "\n",
    "        coefficients = [1.0 for i in range(len(paulis_for_mixer))] # Coefficients for each operator. They are all one. \n",
    "\n",
    "        mixer_list = list(zip(paulis_for_mixer, coefficients)) # Creates a list of tuples combinining the pauli strings and the coefficients\n",
    "        mixer_hamiltonian = SparsePauliOp.from_list(mixer_list) #Createas the pauli operator that can later be passed to QAOAAnsatz's mixer_operator constructor\n",
    "                \n",
    "        return mixer_hamiltonian\n",
    "    \n",
    "# This function calculates the cost of a specific solution \n",
    "def markowitz_cost(x, sigma, mu, q):\n",
    "    \"\"\"\n",
    "    x: Binary decision variable (numpy array)\n",
    "    sigma: covariance matrix (numpy 2D array)\n",
    "    mu: expected returns (numpy array)\n",
    "    q: risk aversion parameter (float)\n",
    "    \n",
    "    \"\"\"\n",
    "    x = np.array(x)\n",
    "    quadratic_term = q * x.T @ sigma @ x\n",
    "    linear_term = mu.T @ x\n",
    "    return quadratic_term - linear_term\n",
    "\n",
    "def brute_force_markowitz(sigma, mu, q, B):\n",
    "    n = len(mu)\n",
    "    best_cost = float('inf')\n",
    "    best_x = None\n",
    "\n",
    "    for x in product([0, 1], repeat=n):\n",
    "        if sum(x) != B:\n",
    "            continue\n",
    "        cost = markowitz_cost(x, sigma, mu, q)\n",
    "        if cost < best_cost:\n",
    "            best_cost = cost\n",
    "            best_x = x\n",
    "    return best_x, best_cost\n",
    "\n"
   ]
  },
  {
   "cell_type": "markdown",
   "id": "74ea9a33",
   "metadata": {},
   "source": [
    "# Construct Quadratic Program "
   ]
  },
  {
   "cell_type": "code",
   "execution_count": 3,
   "id": "2d9d8b38",
   "metadata": {},
   "outputs": [
    {
     "name": "stdout",
     "output_type": "stream",
     "text": [
      "Problem name: \n",
      "\n",
      "Minimize\n",
      "  85.09842748730911*0^2 + 170.57139509346558*0*1 + 171.14756928102815*0*2\n",
      "  + 170.92884891642962*0*3 + 170.79551345881526*0*4 + 170.35287361506067*0*5\n",
      "  + 170.35284949495443*0*6 + 170.2549385867864*0*7 + 171.06303112039313*0*8\n",
      "  + 170.7979699863614*0*9 + 85.09842748730911*1^2 + 170.90492755241428*1*2\n",
      "  + 170.21743946891402*1*3 + 171.1667648267802*1*4 + 171.02929761541864*1*5\n",
      "  + 170.4091940852965*1*6 + 170.37867994182534*1*7 + 170.38025948447165*1*8\n",
      "  + 170.50109721757775*1*9 + 85.09842748730911*2^2 + 170.72161140625047*2*3\n",
      "  + 170.62879999326032*2*4 + 170.48808411481627*2*5 + 170.8087078693406*2*6\n",
      "  + 170.33634883527026*2*7 + 170.48899962315343*2*8 + 170.5632168179119*2*9\n",
      "  + 85.09842748730911*3^2 + 170.65292495883526*3*4 + 170.98203093601123*3*5\n",
      "  + 170.39652875677658*3*6 + 170.71108941303183*3*7 + 170.78926954348026*3*8\n",
      "  + 170.2433053873382*3*9 + 85.09842748730911*4^2 + 170.80439982651967*4*5\n",
      "  + 170.3673790983055*4*6 + 170.2619065676035*4*7 + 171.14574051187157*4*8\n",
      "  + 171.1624870076928*4*9 + 85.09842748730911*5^2 + 171.0052523227347*5*6\n",
      "  + 170.50146874379158*5*7 + 170.2945270886246*5*8 + 170.88108800113037*5*9\n",
      "  + 85.09842748730911*6^2 + 170.6370074683578*6*7 + 170.318893209463*6*8\n",
      "  + 170.6920318847295*6*9 + 85.09842748730911*7^2 + 170.23124349573345*7*8\n",
      "  + 171.106175376697*7*9 + 85.09842748730911*8^2 + 170.45563495621823*8*9\n",
      "  + 85.09842748730911*9^2 - 347.01893279277624*0 - 343.51082071013053*1\n",
      "  - 345.59439016101453*2 - 345.8608127426692*3 - 342.2422545044917*4\n",
      "  - 350.089556226882*5 - 348.1450381828476*6 - 349.7886993648783*7\n",
      "  - 349.3419834535129*8 - 346.3727097373473*9 + 340.39370994923644\n",
      "\n",
      "Subject to\n",
      "  No constraints\n",
      "\n",
      "  Binary variables (10)\n",
      "    0 1 2 3 4 5 6 7 8 9\n",
      "\n",
      "SparsePauliOp(['IIIIIIIIIZ', 'IIIIIIIIZI', 'IIIIIIIZII', 'IIIIIIZIII', 'IIIIIZIIII', 'IIIIZIIIII', 'IIIZIIIIII', 'IIZIIIIIII', 'IZIIIIIIII', 'ZIIIIIIIII', 'IIIIIIIIZZ', 'IIIIIIIZIZ', 'IIIIIIZIIZ', 'IIIIIZIIIZ', 'IIIIZIIIIZ', 'IIIZIIIIIZ', 'IIZIIIIIIZ', 'IZIIIIIIIZ', 'ZIIIIIIIIZ', 'IIIIIIIZZI', 'IIIIIIZIZI', 'IIIIIZIIZI', 'IIIIZIIIZI', 'IIIZIIIIZI', 'IIZIIIIIZI', 'IZIIIIIIZI', 'ZIIIIIIIZI', 'IIIIIIZZII', 'IIIIIZIZII', 'IIIIZIIZII', 'IIIZIIIZII', 'IIZIIIIZII', 'IZIIIIIZII', 'ZIIIIIIZII', 'IIIIIZZIII', 'IIIIZIZIII', 'IIIZIIZIII', 'IIZIIIZIII', 'IZIIIIZIII', 'ZIIIIIZIII', 'IIIIZZIIII', 'IIIZIZIIII', 'IIZIIZIIII', 'IZIIIZIIII', 'ZIIIIZIIII', 'IIIZZIIIII', 'IIZIZIIIII', 'IZIIZIIIII', 'ZIIIZIIIII', 'IIZZIIIIII', 'IZIZIIIIII', 'ZIIZIIIIII', 'IZZIIIIIII', 'ZIZIIIIIII', 'ZZIIIIIIII'],\n",
      "              coeffs=[-253.10599474+0.j, -254.68356721+0.j, -253.77408504+0.j,\n",
      " -253.52956957+0.j, -255.67456555+0.j, -251.5891912 +0.j,\n",
      " -252.2236557 +0.j, -251.25957867+0.j, -251.67012178+0.j,\n",
      " -253.46361053+0.j,   42.64284877+0.j,   42.78689232+0.j,\n",
      "   42.73221223+0.j,   42.69887836+0.j,   42.5882184 +0.j,\n",
      "   42.58821237+0.j,   42.56373465+0.j,   42.76575778+0.j,\n",
      "   42.6994925 +0.j,   42.72623189+0.j,   42.55435987+0.j,\n",
      "   42.79169121+0.j,   42.7573244 +0.j,   42.60229852+0.j,\n",
      "   42.59466999+0.j,   42.59506487+0.j,   42.6252743 +0.j,\n",
      "   42.68040285+0.j,   42.6572    +0.j,   42.62202103+0.j,\n",
      "   42.70217697+0.j,   42.58408721+0.j,   42.62224991+0.j,\n",
      "   42.6408042 +0.j,   42.66323124+0.j,   42.74550773+0.j,\n",
      "   42.59913219+0.j,   42.67777235+0.j,   42.69731739+0.j,\n",
      "   42.56082635+0.j,   42.70109996+0.j,   42.59184477+0.j,\n",
      "   42.56547664+0.j,   42.78643513+0.j,   42.79062175+0.j,\n",
      "   42.75131308+0.j,   42.62536719+0.j,   42.57363177+0.j,\n",
      "   42.720272  +0.j,   42.65925187+0.j,   42.5797233 +0.j,\n",
      "   42.67300797+0.j,   42.55781087+0.j,   42.77654384+0.j,\n",
      "   42.61390874+0.j])\n"
     ]
    }
   ],
   "source": [
    "from Define_Portfolio import generate_portfolio\n",
    "from qiskit_optimization.converters import QuadraticProgramToQubo\n",
    "from qiskit_finance.applications.optimization import PortfolioOptimization\n",
    "\n",
    "# The four lines below contain information that would typically be provided by the client. I randomly generate to test the concept.\n",
    "\n",
    "n = 10 # Variable that determines the problem size. This is the number of potential investment items.\n",
    "mu, sigma = generate_portfolio(n, isRandom= False) # This creates a random portfolio relation to easily test what I am doing\n",
    "q = 0.5 # Risk aversion term. This is how much risk the customer is willing to accept\n",
    "B = 2 # Constraint of how many items the customer can include in the portfolio\n",
    "reps = 1 # Number of reps of the ansatz\n",
    "shots = 10000 # Number of shots on the sampler\n",
    "\n",
    "\n",
    "#I create a portfolio class instance with the client information above. Portfolio is a custom class I made. \n",
    "# IT IS NOT THE SAME PORTFOLIO CLASS FROM QISKIT-FINANCE\n",
    "customer = Portfolio(sigma, mu, q, B)\n",
    "\n",
    "qp = customer.construct_qp() # Turn the portfolio to a quadratic program as explained in a previous cell\n",
    "\n",
    "qp2qubo = QuadraticProgramToQubo()\n",
    "qubo = qp2qubo.convert(qp)\n",
    "cost_hamiltonian = qubo.to_ising()[0] # Converts the qp to an ising hamiltonian. This hamiltonian is directly loaded into QAOAAnsatz\n",
    "\n",
    "print(qubo.prettyprint())\n",
    "print(cost_hamiltonian)\n",
    "\n",
    "\n"
   ]
  },
  {
   "cell_type": "markdown",
   "id": "44aa0c7b",
   "metadata": {},
   "source": [
    "# Prepare Initial State"
   ]
  },
  {
   "cell_type": "code",
   "execution_count": 4,
   "id": "707bfc12",
   "metadata": {},
   "outputs": [],
   "source": [
    "initial_state = customer.build_initial_state()\n",
    "# initial_state.draw()"
   ]
  },
  {
   "cell_type": "markdown",
   "id": "7ce09f4b",
   "metadata": {},
   "source": [
    "# Prepare Driver"
   ]
  },
  {
   "cell_type": "code",
   "execution_count": 5,
   "id": "6f747bca",
   "metadata": {},
   "outputs": [
    {
     "name": "stdout",
     "output_type": "stream",
     "text": [
      "90\n",
      "SparsePauliOp(['XXIIIIIIII', 'XIXIIIIIII', 'XIIXIIIIII', 'XIIIXIIIII', 'XIIIIXIIII', 'XIIIIIXIII', 'XIIIIIIXII', 'XIIIIIIIXI', 'XIIIIIIIIX', 'IXXIIIIIII', 'IXIXIIIIII', 'IXIIXIIIII', 'IXIIIXIIII', 'IXIIIIXIII', 'IXIIIIIXII', 'IXIIIIIIXI', 'IXIIIIIIIX', 'IIXXIIIIII', 'IIXIXIIIII', 'IIXIIXIIII', 'IIXIIIXIII', 'IIXIIIIXII', 'IIXIIIIIXI', 'IIXIIIIIIX', 'IIIXXIIIII', 'IIIXIXIIII', 'IIIXIIXIII', 'IIIXIIIXII', 'IIIXIIIIXI', 'IIIXIIIIIX', 'IIIIXXIIII', 'IIIIXIXIII', 'IIIIXIIXII', 'IIIIXIIIXI', 'IIIIXIIIIX', 'IIIIIXXIII', 'IIIIIXIXII', 'IIIIIXIIXI', 'IIIIIXIIIX', 'IIIIIIXXII', 'IIIIIIXIXI', 'IIIIIIXIIX', 'IIIIIIIXXI', 'IIIIIIIXIX', 'IIIIIIIIXX', 'YYIIIIIIII', 'YIYIIIIIII', 'YIIYIIIIII', 'YIIIYIIIII', 'YIIIIYIIII', 'YIIIIIYIII', 'YIIIIIIYII', 'YIIIIIIIYI', 'YIIIIIIIIY', 'IYYIIIIIII', 'IYIYIIIIII', 'IYIIYIIIII', 'IYIIIYIIII', 'IYIIIIYIII', 'IYIIIIIYII', 'IYIIIIIIYI', 'IYIIIIIIIY', 'IIYYIIIIII', 'IIYIYIIIII', 'IIYIIYIIII', 'IIYIIIYIII', 'IIYIIIIYII', 'IIYIIIIIYI', 'IIYIIIIIIY', 'IIIYYIIIII', 'IIIYIYIIII', 'IIIYIIYIII', 'IIIYIIIYII', 'IIIYIIIIYI', 'IIIYIIIIIY', 'IIIIYYIIII', 'IIIIYIYIII', 'IIIIYIIYII', 'IIIIYIIIYI', 'IIIIYIIIIY', 'IIIIIYYIII', 'IIIIIYIYII', 'IIIIIYIIYI', 'IIIIIYIIIY', 'IIIIIIYYII', 'IIIIIIYIYI', 'IIIIIIYIIY', 'IIIIIIIYYI', 'IIIIIIIYIY', 'IIIIIIIIYY'],\n",
      "              coeffs=[1.+0.j, 1.+0.j, 1.+0.j, 1.+0.j, 1.+0.j, 1.+0.j, 1.+0.j, 1.+0.j, 1.+0.j,\n",
      " 1.+0.j, 1.+0.j, 1.+0.j, 1.+0.j, 1.+0.j, 1.+0.j, 1.+0.j, 1.+0.j, 1.+0.j,\n",
      " 1.+0.j, 1.+0.j, 1.+0.j, 1.+0.j, 1.+0.j, 1.+0.j, 1.+0.j, 1.+0.j, 1.+0.j,\n",
      " 1.+0.j, 1.+0.j, 1.+0.j, 1.+0.j, 1.+0.j, 1.+0.j, 1.+0.j, 1.+0.j, 1.+0.j,\n",
      " 1.+0.j, 1.+0.j, 1.+0.j, 1.+0.j, 1.+0.j, 1.+0.j, 1.+0.j, 1.+0.j, 1.+0.j,\n",
      " 1.+0.j, 1.+0.j, 1.+0.j, 1.+0.j, 1.+0.j, 1.+0.j, 1.+0.j, 1.+0.j, 1.+0.j,\n",
      " 1.+0.j, 1.+0.j, 1.+0.j, 1.+0.j, 1.+0.j, 1.+0.j, 1.+0.j, 1.+0.j, 1.+0.j,\n",
      " 1.+0.j, 1.+0.j, 1.+0.j, 1.+0.j, 1.+0.j, 1.+0.j, 1.+0.j, 1.+0.j, 1.+0.j,\n",
      " 1.+0.j, 1.+0.j, 1.+0.j, 1.+0.j, 1.+0.j, 1.+0.j, 1.+0.j, 1.+0.j, 1.+0.j,\n",
      " 1.+0.j, 1.+0.j, 1.+0.j, 1.+0.j, 1.+0.j, 1.+0.j, 1.+0.j, 1.+0.j, 1.+0.j])\n"
     ]
    }
   ],
   "source": [
    "mixer_operator = customer.build_XY_mixer() # Creates the sparse pauli op driver hamiltonian that swaps the bits\n",
    "print(len(mixer_operator))\n",
    "print(mixer_operator)\n"
   ]
  },
  {
   "cell_type": "code",
   "execution_count": 6,
   "id": "675c7d3f",
   "metadata": {},
   "outputs": [],
   "source": [
    "# ### Temp Playground Cell ###\n",
    "# from qiskit.quantum_info import Statevector\n",
    "\n",
    "# sv = Statevector(initial_state)\n",
    "# sv.draw(\"latex\")\n"
   ]
  },
  {
   "cell_type": "code",
   "execution_count": 7,
   "id": "a901792a",
   "metadata": {},
   "outputs": [],
   "source": [
    "# ### Temp Playground Cell ###\n",
    "\n",
    "# sv = sv.evolve(mixer_operator)\n",
    "# sv.draw(\"latex\")\n"
   ]
  },
  {
   "cell_type": "markdown",
   "id": "54d86899",
   "metadata": {},
   "source": [
    "# Initialize QAOA ansatz"
   ]
  },
  {
   "cell_type": "code",
   "execution_count": 8,
   "id": "4f3e23c2",
   "metadata": {},
   "outputs": [
    {
     "data": {
      "text/plain": [
       "2215"
      ]
     },
     "execution_count": 8,
     "metadata": {},
     "output_type": "execute_result"
    }
   ],
   "source": [
    "from qiskit.circuit.library import QAOAAnsatz\n",
    "ansatz = QAOAAnsatz(cost_operator=cost_hamiltonian, mixer_operator= mixer_operator,initial_state=initial_state, reps = reps).decompose(reps = 5)\n",
    "init_params = [np.pi / 2 for i in range(2 * reps)]\n",
    "# ansatz.draw(fold = - 1) # This will kill the kernel for large circuits. I dont reccomend going over n = 12\n",
    "ansatz.depth()"
   ]
  },
  {
   "cell_type": "markdown",
   "id": "93344aca",
   "metadata": {},
   "source": [
    "# Initialize Cost Function"
   ]
  },
  {
   "cell_type": "code",
   "execution_count": 9,
   "id": "0fab7333",
   "metadata": {},
   "outputs": [],
   "source": [
    "#Global variable\n",
    "costs = []\n",
    "\n",
    "def cost_func(params, ansatz, hamiltonian, estimator):\n",
    "    isa_hamiltonian = hamiltonian.apply_layout(ansatz.layout)\n",
    "    pub = (ansatz, isa_hamiltonian, params)\n",
    "\n",
    "    job = estimator.run(pubs = [pub]).result()[0]\n",
    "\n",
    "    cost = job.data.evs\n",
    "    print(cost)\n",
    "    costs.append(cost)\n",
    "    return cost\n"
   ]
  },
  {
   "cell_type": "markdown",
   "id": "8d54bd42",
   "metadata": {},
   "source": [
    "# Initialize Estimator"
   ]
  },
  {
   "cell_type": "code",
   "execution_count": 10,
   "id": "2fd6636e",
   "metadata": {},
   "outputs": [
    {
     "name": "stdout",
     "output_type": "stream",
     "text": [
      "A C++ Qasm simulator with noise\n"
     ]
    }
   ],
   "source": [
    "from qiskit_aer import AerSimulator\n",
    "from qiskit_ibm_runtime import Estimator\n",
    "from qiskit.transpiler.preset_passmanagers import generate_preset_pass_manager\n",
    "backend = AerSimulator()\n",
    "\n",
    "estimator = Estimator(mode = backend)\n",
    "print(backend.description)\n",
    "# pm = generate_preset_pass_manager(optimization_level = 1, backend = backend)\n",
    "# ansatz_isa = pm.run(ansatz)"
   ]
  },
  {
   "cell_type": "markdown",
   "id": "b2874f10",
   "metadata": {},
   "source": [
    "# Define Optimizer"
   ]
  },
  {
   "cell_type": "code",
   "execution_count": 11,
   "id": "ae101d84",
   "metadata": {},
   "outputs": [
    {
     "name": "stdout",
     "output_type": "stream",
     "text": [
      "-964.0149710845819\n",
      "-303.4894946167514\n",
      "-963.9733226508325\n",
      "-322.65955508615826\n",
      "-25.14288724147569\n",
      "-72.0899502293648\n",
      "-964.0305437736818\n",
      "-205.29767702912318\n",
      "-848.5511297128478\n",
      "-953.256325692185\n",
      "-963.4679295793453\n",
      "-964.0289508872534\n",
      "-963.0524734707965\n",
      "-963.4810189424015\n",
      "-964.1361735367653\n",
      "-964.1281375715078\n",
      "-964.17466948214\n",
      "-964.1983586997786\n",
      "-964.1166154094102\n",
      "-964.242826678879\n",
      "-964.1547519151273\n",
      "-964.2244115614369\n",
      "-964.2646400148286\n",
      "-964.1911712099169\n",
      "-964.1832139505415\n",
      "-964.1305367294522\n",
      "-964.3405380081076\n",
      "-964.3305086250284\n",
      "-964.2530187192145\n",
      "-964.2613140540043\n",
      "-964.2900508635569\n",
      "-964.2935436594358\n",
      "-964.2696230847262\n",
      "-964.2155350133934\n",
      "-964.2468170076032\n",
      " message: Optimization terminated successfully.\n",
      " success: True\n",
      "  status: 1\n",
      "     fun: -964.2468170076032\n",
      "       x: [ 1.589e+00  1.449e+00]\n",
      "    nfev: 35\n",
      "   maxcv: 0.0\n"
     ]
    }
   ],
   "source": [
    "from scipy.optimize import minimize\n",
    "\n",
    "optimizer_results = minimize(\n",
    "    fun = cost_func,\n",
    "    x0 = init_params,\n",
    "    args=(ansatz, cost_hamiltonian, estimator),\n",
    "    method = \"COBYLA\",\n",
    "    tol=1e-4\n",
    ")\n",
    "\n",
    "print(optimizer_results)"
   ]
  },
  {
   "cell_type": "markdown",
   "id": "afaa082d",
   "metadata": {},
   "source": [
    "# Begin Post Processing\n",
    "### With the optimal parameters, we need to get the associated bitstring"
   ]
  },
  {
   "cell_type": "code",
   "execution_count": 12,
   "id": "b6ea26b1",
   "metadata": {},
   "outputs": [
    {
     "name": "stdout",
     "output_type": "stream",
     "text": [
      "Length of Original Count Dictionary: 47\n",
      "{'0100001000': 281, '0110000000': 283, '0010100000': 262, '0000101000': 292, '0001100000': 226, '0010000100': 272, '0010000010': 218, '1000001000': 155, '0000100001': 140, '0010010000': 182, '1000000001': 155, '0000001100': 241, '0100100000': 251, '0000100010': 198, '0000000110': 206, '0000100100': 272, '0000010100': 223, '0101000000': 321, '0000001001': 182, '0001001000': 207, '1010000000': 279, '0000010001': 138, '0001000100': 241, '0011000000': 240, '0001000001': 234, '0000011000': 185, '1001000000': 183, '0000000011': 189, '0000110000': 207, '1100000000': 196, '0000010010': 152, '0001000010': 279, '0100010000': 230, '0000000101': 215, '1000000100': 197, '1000000010': 199, '0100000001': 219, '0001010000': 214, '0100000010': 295, '0010000001': 160, '0100000100': 312, '0000001010': 216, '1000100000': 222, '0010001000': 248, '1000010000': 181, '0101010001': 1, '0000000000': 1}\n",
      "Length of filtered counts dictionary: 45\n",
      "[(321, '0000001010'), (312, '0010000010'), (295, '0100000010'), (292, '0001010000'), (283, '0000000110'), (281, '0001000010'), (279, '0100001000'), (279, '0000000101'), (272, '0010010000'), (272, '0010000100'), (262, '0000010100'), (251, '0000010010'), (248, '0001000100'), (241, '0011000000'), (241, '0010001000'), (240, '0000001100'), (234, '1000001000'), (230, '0000100010'), (226, '0000011000'), (223, '0010100000'), (222, '0000010001'), (219, '1000000010'), (218, '0100000100'), (216, '0101000000'), (215, '1010000000'), (214, '0000101000'), (207, '0001001000'), (207, '0000110000'), (206, '0110000000'), (199, '0100000001'), (198, '0100010000'), (197, '0010000001'), (196, '0000000011'), (189, '1100000000'), (185, '0001100000'), (183, '0000001001'), (182, '1001000000'), (182, '0000100100'), (181, '0000100001'), (160, '1000000100'), (155, '1000000001'), (155, '0001000001'), (152, '0100100000'), (140, '1000010000'), (138, '1000100000')]\n"
     ]
    }
   ],
   "source": [
    "from qiskit_ibm_runtime import Sampler\n",
    "from Define_PostProcessing import process_sampler_results\n",
    "\n",
    "optimized_circuit = ansatz.assign_parameters(optimizer_results.x)\n",
    "optimized_circuit.measure_all()\n",
    "sampler = Sampler(mode = backend)\n",
    "\n",
    "pub= (optimized_circuit)\n",
    "job = sampler.run([pub], shots=shots)\n",
    "original_count_dict = job.result()[0].data.meas.get_counts()\n",
    "\n",
    "print(\"Length of Original Count Dictionary:\", len(original_count_dict))\n",
    "print(original_count_dict)\n",
    "\n",
    "filtered_counts = process_sampler_results(job, B)\n",
    "print(\"Length of filtered counts dictionary:\",len(filtered_counts))\n",
    "print(filtered_counts)"
   ]
  },
  {
   "cell_type": "code",
   "execution_count": 13,
   "id": "47c39fc9",
   "metadata": {},
   "outputs": [
    {
     "name": "stdout",
     "output_type": "stream",
     "text": [
      "The cost for [0, 0, 0, 0, 0, 0, 1, 0, 1, 0] is -16.577563503042853\n",
      "The cost for [0, 0, 1, 0, 0, 0, 0, 0, 1, 0] is -13.856809067519377\n",
      "The cost for [0, 1, 0, 0, 0, 0, 0, 0, 1, 0] is -11.881979755317163\n",
      "The cost for [0, 0, 0, 1, 0, 1, 0, 0, 0, 0] is -14.37777310968537\n",
      "The cost for [0, 0, 0, 0, 0, 0, 0, 1, 1, 0] is -18.308874398803162\n",
      "The cost for [0, 0, 0, 1, 0, 0, 0, 0, 1, 0] is -13.822961728847242\n",
      "The cost for [0, 1, 0, 0, 0, 0, 1, 0, 0, 0] is -10.656099883826979\n",
      "The cost for [0, 0, 0, 0, 0, 0, 0, 1, 0, 1] is -14.46466880167396\n",
      "The cost for [0, 0, 1, 0, 0, 1, 0, 0, 0, 0] is -14.605297349225653\n",
      "The cost for [0, 0, 1, 0, 0, 0, 0, 1, 0, 0] is -14.456175766767958\n",
      "The cost for [0, 0, 0, 0, 0, 1, 0, 1, 0, 0] is -18.786221924114106\n",
      "The cost for [0, 0, 0, 0, 0, 1, 0, 0, 1, 0] is -18.54644766791569\n",
      "The cost for [0, 0, 0, 1, 0, 0, 0, 1, 0, 0] is -14.347857770661077\n",
      "The cost for [0, 0, 1, 1, 0, 0, 0, 0, 0, 0] is -10.143026573578666\n",
      "The cost for [0, 0, 1, 0, 0, 0, 1, 0, 0, 0] is -12.340155550666875\n",
      "The cost for [0, 0, 0, 0, 0, 0, 1, 1, 0, 0] is -16.706165155513435\n",
      "The cost for [1, 0, 0, 0, 0, 0, 1, 0, 0, 0] is -14.220556556814763\n",
      "The cost for [0, 0, 0, 0, 1, 0, 0, 0, 1, 0] is -9.847932522278423\n",
      "The cost for [0, 0, 0, 0, 0, 1, 1, 0, 0, 0] is -16.638777163140272\n",
      "The cost for [0, 0, 1, 0, 1, 0, 0, 0, 0, 0] is -6.617279748391263\n",
      "The cost for [0, 0, 0, 0, 0, 1, 0, 0, 0, 1] is -14.99061303924428\n",
      "The cost for [1, 0, 0, 0, 0, 0, 0, 0, 1, 0] is -14.707320202041373\n",
      "The cost for [0, 1, 0, 0, 0, 0, 0, 1, 0, 0] is -12.330275209328901\n",
      "The cost for [0, 1, 0, 1, 0, 0, 0, 0, 0, 0] is -8.563629060031104\n",
      "The cost for [1, 0, 1, 0, 0, 0, 0, 0, 0, 0] is -10.875188748908013\n",
      "The cost for [0, 0, 0, 0, 1, 0, 1, 0, 0, 0] is -9.429348665179123\n",
      "The cost for [0, 0, 0, 1, 0, 0, 1, 0, 0, 0] is -13.018757244885581\n",
      "The cost for [0, 0, 0, 0, 1, 1, 0, 0, 0, 0] is -10.936845980999417\n",
      "The cost for [0, 1, 1, 0, 0, 0, 0, 0, 0, 0] is -7.609718394876172\n",
      "The cost for [0, 1, 0, 0, 0, 0, 0, 0, 0, 1] is -8.791868306045425\n",
      "The cost for [0, 1, 0, 0, 0, 1, 0, 0, 0, 0] is -11.980514397739276\n",
      "The cost for [0, 0, 1, 0, 0, 0, 0, 0, 0, 1] is -10.813318156595267\n",
      "The cost for [0, 0, 0, 0, 0, 0, 0, 0, 1, 1] is -14.668493310787323\n",
      "The cost for [1, 1, 0, 0, 0, 0, 0, 0, 0, 0] is -9.367793485586569\n",
      "The cost for [0, 0, 0, 1, 1, 0, 0, 0, 0, 0] is -6.859577364471031\n",
      "The cost for [0, 0, 0, 0, 0, 0, 1, 0, 0, 1] is -13.235151111610726\n",
      "The cost for [1, 0, 0, 1, 0, 0, 0, 0, 0, 0] is -11.360331695161213\n",
      "The cost for [0, 0, 0, 0, 1, 0, 0, 1, 0, 0] is -11.178482377911882\n",
      "The cost for [0, 0, 0, 0, 1, 0, 0, 0, 0, 1] is -6.8619123102915625\n",
      "The cost for [1, 0, 0, 0, 0, 0, 0, 1, 0, 0] is -15.962128647013513\n",
      "The cost for [1, 0, 0, 0, 0, 0, 0, 0, 0, 1] is -12.003107619907462\n",
      "The cost for [0, 0, 0, 1, 0, 0, 0, 0, 0, 1] is -11.399652168823652\n",
      "The cost for [0, 1, 0, 0, 1, 0, 0, 0, 0, 0] is -3.995745463987386\n",
      "The cost for [1, 0, 0, 0, 0, 1, 0, 0, 0, 0] is -16.16505048074297\n",
      "The cost for [1, 0, 0, 0, 1, 0, 0, 0, 0, 0] is -7.875108914598053\n",
      "45\n"
     ]
    }
   ],
   "source": [
    "\n",
    "binary_decision_variables = []\n",
    "for item in filtered_counts:\n",
    "    binary_decision_variables.append([int(bit) for bit in item[1]]) \n",
    "\n",
    "states_cost_dict = {}\n",
    "for array in binary_decision_variables:\n",
    "    c = markowitz_cost(array, sigma, mu, q)\n",
    "    states_cost_dict[tuple(array)] = c\n",
    "    print(f\"The cost for {array} is {c}\")\n",
    "\n",
    "print(len(states_cost_dict))"
   ]
  },
  {
   "cell_type": "markdown",
   "id": "a0f6ffa3",
   "metadata": {},
   "source": [
    "# Solve classically with Brute Force"
   ]
  },
  {
   "cell_type": "code",
   "execution_count": 14,
   "id": "f8b69121",
   "metadata": {},
   "outputs": [
    {
     "name": "stdout",
     "output_type": "stream",
     "text": [
      "(0, 0, 0, 0, 0, 1, 0, 1, 0, 0)\n",
      "Quantum Solution \n",
      "Minimum cost: -18.786221924114106\n",
      "Bitstring: [0, 0, 0, 0, 0, 1, 0, 1, 0, 0]\n",
      "_________________________________________________________________________________________\n",
      "Classical Solution: \n",
      "Solution State: [0, 0, 0, 0, 0, 1, 0, 1, 0, 0]\n",
      "Solution Cost: -18.786221924114106\n",
      "0000010100\n"
     ]
    }
   ],
   "source": [
    "# Find the key (bitstring) with the lowest cost\n",
    "min_key = min(states_cost_dict, key=states_cost_dict.get)\n",
    "print(min_key)\n",
    "min_cost = states_cost_dict[min_key]\n",
    "\n",
    "# Print result\n",
    "print(\"Quantum Solution \")\n",
    "print(f\"Minimum cost: {min_cost}\")\n",
    "print(f\"Bitstring: {list(min_key)}\")  # Convert back to list if needed\n",
    "\n",
    "eigenvector, eigenvalue = brute_force_markowitz(sigma, mu, q, B)\n",
    "print(\"_________________________________________________________________________________________\")\n",
    "print(\"Classical Solution: \")\n",
    "print(f\"Solution State: {list(eigenvector)}\")\n",
    "print(f\"Solution Cost: {eigenvalue}\")\n",
    "\n",
    "classical_solution_as_string = ''.join(str(bit) for bit in eigenvector)\n",
    "print(classical_solution_as_string)"
   ]
  },
  {
   "cell_type": "code",
   "execution_count": 15,
   "id": "d478d210",
   "metadata": {},
   "outputs": [
    {
     "name": "stdout",
     "output_type": "stream",
     "text": [
      "[(321, '0000001010'), (312, '0010000010'), (295, '0100000010'), (292, '0001010000'), (283, '0000000110'), (281, '0001000010'), (279, '0100001000'), (279, '0000000101'), (272, '0010010000'), (272, '0010000100'), (262, '0000010100'), (251, '0000010010'), (248, '0001000100'), (241, '0011000000'), (241, '0010001000'), (240, '0000001100'), (234, '1000001000'), (230, '0000100010'), (226, '0000011000'), (223, '0010100000'), (222, '0000010001'), (219, '1000000010'), (218, '0100000100'), (216, '0101000000'), (215, '1010000000'), (214, '0000101000'), (207, '0001001000'), (207, '0000110000'), (206, '0110000000'), (199, '0100000001'), (198, '0100010000'), (197, '0010000001'), (196, '0000000011'), (189, '1100000000'), (185, '0001100000'), (183, '0000001001'), (182, '1001000000'), (182, '0000100100'), (181, '0000100001'), (160, '1000000100'), (155, '1000000001'), (155, '0001000001'), (152, '0100100000'), (140, '1000010000'), (138, '1000100000')]\n",
      "0000000011\n",
      "0000000101\n",
      "0000000110\n",
      "0000001001\n",
      "0000001010\n",
      "0000001100\n",
      "0000010001\n",
      "0000010010\n",
      "0000010100\n",
      "0000011000\n",
      "0000100001\n",
      "0000100010\n",
      "0000100100\n",
      "0000101000\n",
      "0000110000\n",
      "0001000001\n",
      "0001000010\n",
      "0001000100\n",
      "0001001000\n",
      "0001010000\n",
      "0001100000\n",
      "0010000001\n",
      "0010000010\n",
      "0010000100\n",
      "0010001000\n",
      "0010010000\n",
      "0010100000\n",
      "0011000000\n",
      "0100000001\n",
      "0100000010\n",
      "0100000100\n",
      "0100001000\n",
      "0100010000\n",
      "0100100000\n",
      "0101000000\n",
      "0110000000\n",
      "1000000001\n",
      "1000000010\n",
      "1000000100\n",
      "1000001000\n",
      "1000010000\n",
      "1000100000\n",
      "1001000000\n",
      "1010000000\n",
      "1100000000\n"
     ]
    },
    {
     "data": {
      "image/png": "[encoded data removed]",
      "text/plain": [
       "<Figure size 1000x500 with 1 Axes>"
      ]
     },
     "metadata": {},
     "output_type": "display_data"
    }
   ],
   "source": [
    "import matplotlib.pyplot as plt\n",
    "\n",
    "def draw_results(counts_list, B, shots, classical_solution = None):\n",
    "    # counts_list is [(count, bitstring), ...]\n",
    "    print(counts_list)\n",
    "    counts_list = sorted(counts_list, key=lambda x: x[1])  # Optional: sort by bitstring for nicer plots\n",
    "\n",
    "    # Separate into two lists for plotting\n",
    "    counts = [count / shots for count, bitstring in counts_list]\n",
    "    bitstrings = [bitstring for count, bitstring in counts_list]\n",
    "    colors = ['green' if bitstring == classical_solution else 'blue' for bitstring in bitstrings]\n",
    "    for bit in bitstrings:\n",
    "        print(bit)\n",
    "\n",
    "    # Plotting\n",
    "    plt.figure(figsize=(10, 5))\n",
    "    plt.bar(bitstrings, counts, color=colors)\n",
    "    plt.xlabel('Potential Solution Bitstrings')\n",
    "    plt.ylabel('Probability')\n",
    "    plt.title(f'Measurements of States with Exactly {B} Ones')\n",
    "    plt.grid(axis='y')\n",
    "    plt.tight_layout()\n",
    "    plt.show()\n",
    "draw_results(filtered_counts, B, shots, classical_solution = classical_solution_as_string)"
   ]
  },
  {
   "cell_type": "code",
   "execution_count": 16,
   "id": "62c67d89",
   "metadata": {},
   "outputs": [
    {
     "name": "stdout",
     "output_type": "stream",
     "text": [
      "011 (-961.003242673328+0j)\n",
      "(-959.245167582618+0j)\n"
     ]
    }
   ],
   "source": [
    "from qiskit.quantum_info import Statevector\n",
    "\n",
    "sv1 = Statevector.from_label('011')\n",
    "print(\"011\", sv1.expectation_value(cost_hamiltonian))\n",
    "\n",
    "sv2 = Statevector.from_label('110')\n",
    "print(sv2.expectation_value(cost_hamiltonian))"
   ]
  },
  {
   "cell_type": "code",
   "execution_count": null,
   "id": "2a744a3f",
   "metadata": {},
   "outputs": [],
   "source": []
  },
  {
   "cell_type": "code",
   "execution_count": null,
   "id": "7c600614",
   "metadata": {},
   "outputs": [],
   "source": []
  }
 ],
 "metadata": {
  "kernelspec": {
   "display_name": ".venv",
   "language": "python",
   "name": "python3"
  },
  "language_info": {
   "codemirror_mode": {
    "name": "ipython",
    "version": 3
   },
   "file_extension": ".py",
   "mimetype": "text/x-python",
   "name": "python",
   "nbconvert_exporter": "python",
   "pygments_lexer": "ipython3",
   "version": "3.10.12"
  }
 },
 "nbformat": 4,
 "nbformat_minor": 5
}
